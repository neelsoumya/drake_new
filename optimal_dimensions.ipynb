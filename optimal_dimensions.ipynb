{
  "nbformat": 4,
  "nbformat_minor": 0,
  "metadata": {
    "colab": {
      "provenance": [],
      "authorship_tag": "ABX9TyNerVnzGYQYTYFuyZTugjmj",
      "include_colab_link": true
    },
    "kernelspec": {
      "name": "python3",
      "display_name": "Python 3"
    },
    "language_info": {
      "name": "python"
    }
  },
  "cells": [
    {
      "cell_type": "markdown",
      "metadata": {
        "id": "view-in-github",
        "colab_type": "text"
      },
      "source": [
        "<a href=\"https://colab.research.google.com/github/neelsoumya/drake_new/blob/main/optimal_dimensions.ipynb\" target=\"_parent\"><img src=\"https://colab.research.google.com/assets/colab-badge.svg\" alt=\"Open In Colab\"/></a>"
      ]
    },
    {
      "cell_type": "code",
      "execution_count": 3,
      "metadata": {
        "colab": {
          "base_uri": "https://localhost:8080/"
        },
        "id": "e7IaIfPoRX1X",
        "outputId": "afc68d83-c321-4f5d-ace0-471212df2a83"
      },
      "outputs": [
        {
          "output_type": "stream",
          "name": "stderr",
          "text": [
            "<ipython-input-3-1643522836>:7: RuntimeWarning: overflow encountered in power\n",
            "  f = lambda n: (np.pi**(n/2)/gamma(n/2+1))*L**n\n",
            "<ipython-input-3-1643522836>:7: RuntimeWarning: invalid value encountered in divide\n",
            "  f = lambda n: (np.pi**(n/2)/gamma(n/2+1))*L**n\n"
          ]
        },
        {
          "output_type": "stream",
          "name": "stdout",
          "text": [
            "1241\n"
          ]
        },
        {
          "output_type": "stream",
          "name": "stderr",
          "text": [
            "<ipython-input-3-1643522836>:7: RuntimeWarning: overflow encountered in power\n",
            "  f = lambda n: (np.pi**(n/2)/gamma(n/2+1))*L**n\n",
            "<ipython-input-3-1643522836>:7: RuntimeWarning: invalid value encountered in divide\n",
            "  f = lambda n: (np.pi**(n/2)/gamma(n/2+1))*L**n\n"
          ]
        },
        {
          "output_type": "stream",
          "name": "stdout",
          "text": [
            "1241\n"
          ]
        }
      ],
      "source": [
        "import numpy as np\n",
        "from scipy.special import gamma\n",
        "\n",
        "def argmax_dimension(L, max_n=1000000):\n",
        "    \"\"\"Return the integer n ≤ max_n at which f(n) is largest.\"\"\"\n",
        "    n_vals = np.arange(1, max_n+1)\n",
        "    f = lambda n: (np.pi**(n/2)/gamma(n/2+1))*L**n\n",
        "    return n_vals[np.argmax(f(n_vals))]\n",
        "\n",
        "# Example for L=1:\n",
        "print(argmax_dimension(1))          # → 5\n",
        "\n",
        "# Example for L=10000 (will saturate at upper limit if max_n too small):\n",
        "print(argmax_dimension(10000, 10000000))\n"
      ]
    }
  ]
}